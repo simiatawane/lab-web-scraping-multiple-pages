{
 "cells": [
  {
   "cell_type": "code",
   "execution_count": 1,
   "id": "f49920c8",
   "metadata": {},
   "outputs": [],
   "source": [
    "# 1. import libraries\n",
    "from bs4 import BeautifulSoup\n",
    "import requests"
   ]
  },
  {
   "cell_type": "code",
   "execution_count": 2,
   "id": "520ebc6d",
   "metadata": {},
   "outputs": [],
   "source": [
    "# 2. url: we start with the 'second' page. Show that you can start whenever you want\n",
    "url = \"https://www.poplist.de/poplist.php?site=1&var1=%20AND%20(tab_list_type.ID%20=%20466)&var4=Rolling%20Stone%20(2004)%20Die%20500%20besten%20Songs%20aller%20Zeiten%20-%20Kritiker&var5=Best-of-Lists%20from%20German%20Music%20Magazines%20-%20%20The%20500%20Best%20Songs%20of%20All%20Time&var10=Rolling%20Stone%20(2004)%20Die%20500%20besten%20Songs%20aller%20Zeiten,#list\""
   ]
  },
  {
   "cell_type": "code",
   "execution_count": 3,
   "id": "d763fd2f",
   "metadata": {},
   "outputs": [
    {
     "data": {
      "text/plain": [
       "200"
      ]
     },
     "execution_count": 3,
     "metadata": {},
     "output_type": "execute_result"
    }
   ],
   "source": [
    "# 3. download html with a get request\n",
    "response = requests.get(url)\n",
    "response.status_code # 200 status code means OK!"
   ]
  },
  {
   "cell_type": "code",
   "execution_count": 4,
   "id": "78e68943",
   "metadata": {},
   "outputs": [],
   "source": [
    "# 4.1. parse html (create the 'soup')\n",
    "soup = BeautifulSoup(response.content, \"html.parser\")"
   ]
  },
  {
   "cell_type": "code",
   "execution_count": 5,
   "id": "0cc76dc7",
   "metadata": {
    "scrolled": false
   },
   "outputs": [],
   "source": [
    "# 4.2. check that the html code looks like it should\n",
    "#soup"
   ]
  },
  {
   "cell_type": "code",
   "execution_count": 6,
   "id": "f92e9095",
   "metadata": {},
   "outputs": [
    {
     "data": {
      "text/plain": [
       "[]"
      ]
     },
     "execution_count": 6,
     "metadata": {},
     "output_type": "execute_result"
    }
   ],
   "source": [
    "# 5. retrieve/extract the desired info (here, you'll paste the \"Selector\" you copied before to get the element that belongs to the top movie)\n",
    "soup.select(\"#listcontainer > table > tbody > tr:nth-child(2) > td.bestlist.thick > a\")\n"
   ]
  },
  {
   "cell_type": "code",
   "execution_count": 7,
   "id": "edcab9ee",
   "metadata": {
    "scrolled": true
   },
   "outputs": [
    {
     "name": "stdout",
     "output_type": "stream",
     "text": [
      "https://www.poplist.de/poplist.php?site=1&var1=%20AND%20(tab_list_type.ID%20=%20466)&var4=Rolling%20Stone%20(2004)%20Die%20500%20besten%20Songs%20aller%20Zeiten%20-%20Kritiker&var5=Best-of-Lists%20from%20German%20Music%20Magazines%20-%20%20The%20500%20Best%20Songs%20of%20All%20Time&var10=Rolling%20Stone%20(2004)%20Die%20500%20besten%20Songs%20aller%20Zeiten,#list\n",
      "https://www.poplist.de/poplist.php?site=2&var1=%20AND%20(tab_list_type.ID%20=%20466)&var4=Rolling%20Stone%20(2004)%20Die%20500%20besten%20Songs%20aller%20Zeiten%20-%20Kritiker&var5=Best-of-Lists%20from%20German%20Music%20Magazines%20-%20%20The%20500%20Best%20Songs%20of%20All%20Time&var10=Rolling%20Stone%20(2004)%20Die%20500%20besten%20Songs%20aller%20Zeiten,#list\n",
      "https://www.poplist.de/poplist.php?site=3&var1=%20AND%20(tab_list_type.ID%20=%20466)&var4=Rolling%20Stone%20(2004)%20Die%20500%20besten%20Songs%20aller%20Zeiten%20-%20Kritiker&var5=Best-of-Lists%20from%20German%20Music%20Magazines%20-%20%20The%20500%20Best%20Songs%20of%20All%20Time&var10=Rolling%20Stone%20(2004)%20Die%20500%20besten%20Songs%20aller%20Zeiten,#list\n",
      "https://www.poplist.de/poplist.php?site=4&var1=%20AND%20(tab_list_type.ID%20=%20466)&var4=Rolling%20Stone%20(2004)%20Die%20500%20besten%20Songs%20aller%20Zeiten%20-%20Kritiker&var5=Best-of-Lists%20from%20German%20Music%20Magazines%20-%20%20The%20500%20Best%20Songs%20of%20All%20Time&var10=Rolling%20Stone%20(2004)%20Die%20500%20besten%20Songs%20aller%20Zeiten,#list\n",
      "https://www.poplist.de/poplist.php?site=5&var1=%20AND%20(tab_list_type.ID%20=%20466)&var4=Rolling%20Stone%20(2004)%20Die%20500%20besten%20Songs%20aller%20Zeiten%20-%20Kritiker&var5=Best-of-Lists%20from%20German%20Music%20Magazines%20-%20%20The%20500%20Best%20Songs%20of%20All%20Time&var10=Rolling%20Stone%20(2004)%20Die%20500%20besten%20Songs%20aller%20Zeiten,#list\n"
     ]
    }
   ],
   "source": [
    "iterations = range(1, 6)\n",
    "#[i for i in iterations]\n",
    "for i in iterations:\n",
    "    start_at= str(i)\n",
    "    url = \"https://www.poplist.de/poplist.php?site=\"+start_at+\"&var1=%20AND%20(tab_list_type.ID%20=%20466)&var4=Rolling%20Stone%20(2004)%20Die%20500%20besten%20Songs%20aller%20Zeiten%20-%20Kritiker&var5=Best-of-Lists%20from%20German%20Music%20Magazines%20-%20%20The%20500%20Best%20Songs%20of%20All%20Time&var10=Rolling%20Stone%20(2004)%20Die%20500%20besten%20Songs%20aller%20Zeiten,#list\"\n",
    "    print(url)"
   ]
  },
  {
   "cell_type": "code",
   "execution_count": 8,
   "id": "95e130a6",
   "metadata": {},
   "outputs": [
    {
     "name": "stdout",
     "output_type": "stream",
     "text": [
      "Status code: 200\n",
      "https://www.poplist.de/poplist.php?site=1&var1=%20AND%20(tab_list_type.ID%20=%20466)&var4=Rolling%20Stone%20(2004)%20Die%20500%20besten%20Songs%20aller%20Zeiten%20-%20Kritiker&var5=Best-of-Lists%20from%20German%20Music%20Magazines%20-%20%20The%20500%20Best%20Songs%20of%20All%20Time&var10=Rolling%20Stone%20(2004)%20Die%20500%20besten%20Songs%20aller%20Zeiten,#list\n",
      "I will sleep for 1 second/s.\n",
      "Status code: 200\n",
      "https://www.poplist.de/poplist.php?site=2&var1=%20AND%20(tab_list_type.ID%20=%20466)&var4=Rolling%20Stone%20(2004)%20Die%20500%20besten%20Songs%20aller%20Zeiten%20-%20Kritiker&var5=Best-of-Lists%20from%20German%20Music%20Magazines%20-%20%20The%20500%20Best%20Songs%20of%20All%20Time&var10=Rolling%20Stone%20(2004)%20Die%20500%20besten%20Songs%20aller%20Zeiten,#list\n",
      "I will sleep for 1 second/s.\n",
      "Status code: 200\n",
      "https://www.poplist.de/poplist.php?site=3&var1=%20AND%20(tab_list_type.ID%20=%20466)&var4=Rolling%20Stone%20(2004)%20Die%20500%20besten%20Songs%20aller%20Zeiten%20-%20Kritiker&var5=Best-of-Lists%20from%20German%20Music%20Magazines%20-%20%20The%20500%20Best%20Songs%20of%20All%20Time&var10=Rolling%20Stone%20(2004)%20Die%20500%20besten%20Songs%20aller%20Zeiten,#list\n",
      "I will sleep for 3 second/s.\n",
      "Status code: 200\n",
      "https://www.poplist.de/poplist.php?site=4&var1=%20AND%20(tab_list_type.ID%20=%20466)&var4=Rolling%20Stone%20(2004)%20Die%20500%20besten%20Songs%20aller%20Zeiten%20-%20Kritiker&var5=Best-of-Lists%20from%20German%20Music%20Magazines%20-%20%20The%20500%20Best%20Songs%20of%20All%20Time&var10=Rolling%20Stone%20(2004)%20Die%20500%20besten%20Songs%20aller%20Zeiten,#list\n",
      "I will sleep for 2 second/s.\n",
      "Status code: 200\n",
      "https://www.poplist.de/poplist.php?site=5&var1=%20AND%20(tab_list_type.ID%20=%20466)&var4=Rolling%20Stone%20(2004)%20Die%20500%20besten%20Songs%20aller%20Zeiten%20-%20Kritiker&var5=Best-of-Lists%20from%20German%20Music%20Magazines%20-%20%20The%20500%20Best%20Songs%20of%20All%20Time&var10=Rolling%20Stone%20(2004)%20Die%20500%20besten%20Songs%20aller%20Zeiten,#list\n",
      "I will sleep for 3 second/s.\n"
     ]
    }
   ],
   "source": [
    "from random import randint\n",
    "from time import sleep\n",
    "\n",
    "pages = []\n",
    "\n",
    "for i in iterations:\n",
    "    # assemble the url:\n",
    "    start_at= str(i)\n",
    "    url = \"https://www.poplist.de/poplist.php?site=\"+start_at+\"&var1=%20AND%20(tab_list_type.ID%20=%20466)&var4=Rolling%20Stone%20(2004)%20Die%20500%20besten%20Songs%20aller%20Zeiten%20-%20Kritiker&var5=Best-of-Lists%20from%20German%20Music%20Magazines%20-%20%20The%20500%20Best%20Songs%20of%20All%20Time&var10=Rolling%20Stone%20(2004)%20Die%20500%20besten%20Songs%20aller%20Zeiten,#list\"\n",
    "    # download html with a get request:\n",
    "    response = requests.get(url)\n",
    "    #response = requests.get(url, headers = {\"Accept-Language\": \"en-US\"})\n",
    "\n",
    "    # monitor the process by printing the status code\n",
    "    print(\"Status code: \" + str(response.status_code))\n",
    "    print(url)\n",
    "    # store response into \"pages\" list\n",
    "    pages.append(response)\n",
    "\n",
    "    # respectful nap:\n",
    "    wait_time = randint(1,4)\n",
    "    print(\"I will sleep for \" + str(wait_time) + \" second/s.\")\n",
    "    sleep(wait_time)"
   ]
  },
  {
   "cell_type": "code",
   "execution_count": 9,
   "id": "4c2124c4",
   "metadata": {},
   "outputs": [],
   "source": [
    "#print(BeautifulSoup(pages[0].content, \"html.parser\").prettify())"
   ]
  },
  {
   "cell_type": "code",
   "execution_count": 10,
   "id": "0736f298",
   "metadata": {},
   "outputs": [
    {
     "data": {
      "text/plain": [
       "[]"
      ]
     },
     "execution_count": 10,
     "metadata": {},
     "output_type": "execute_result"
    }
   ],
   "source": [
    "# Paste the Selector from the first movie title copied from Chrome Dev Tools\n",
    "\n",
    "soup.select(\"#listcontainer > table > tbody > tr:nth-child(2) > td.bestlist.thick > a\")"
   ]
  },
  {
   "cell_type": "code",
   "execution_count": 11,
   "id": "f0a0a78a",
   "metadata": {
    "scrolled": true
   },
   "outputs": [
    {
     "data": {
      "text/plain": [
       "[<a href=\"poplist.php?p=721#list\"> Bob Dylan</a>,\n",
       " <a href=\"poplist.php?p=279#list\">The Rolling Stones</a>,\n",
       " <a href=\"poplist.php?p=838#list\">The Beach Boys</a>,\n",
       " <a href=\"poplist.php?p=893#list\"> John Lennon</a>,\n",
       " <a href=\"poplist.php?p=101#list\"> Nirvana</a>,\n",
       " <a href=\"poplist.php?p=870#list\"> Aretha Franklin</a>,\n",
       " <a href=\"poplist.php?p=288#list\">The Beatles</a>,\n",
       " <a href=\"poplist.php?p=873#list\"> Marvin Gaye</a>,\n",
       " <a href=\"poplist.php?p=838#list\">The Beach Boys</a>,\n",
       " <a href=\"poplist.php?p=288#list\">The Beatles</a>,\n",
       " <a href=\"poplist.php?p=884#list\">The Clash</a>,\n",
       " <a href=\"poplist.php?p=809#list\"> Chuck Berry</a>,\n",
       " <a href=\"poplist.php?p=868#list\">The Kinks</a>,\n",
       " <a href=\"poplist.php?p=869#list\">The Who</a>,\n",
       " <a href=\"poplist.php?p=288#list\">The Beatles</a>,\n",
       " <a href=\"poplist.php?p=279#list\">The Rolling Stones</a>,\n",
       " <a href=\"poplist.php?p=721#list\"> Bob Dylan</a>,\n",
       " <a href=\"poplist.php?p=839#list\"> Otis Redding</a>,\n",
       " <a href=\"poplist.php?p=841#list\"> Jimi Hendrix (Experience)</a>,\n",
       " <a href=\"poplist.php?p=2692#list\"> Ray Charles</a>,\n",
       " <a href=\"poplist.php?p=279#list\">The Rolling Stones</a>,\n",
       " <a href=\"poplist.php?p=279#list\">The Rolling Stones</a>,\n",
       " <a href=\"poplist.php?p=804#list\"> Elvis Presley</a>,\n",
       " <a href=\"poplist.php?p=229#list\"> Bruce Springsteen</a>,\n",
       " <a href=\"poplist.php?p=860#list\"> Sam Cooke</a>,\n",
       " <a href=\"poplist.php?p=288#list\">The Beatles</a>,\n",
       " <a href=\"poplist.php?p=229#list\"> Bruce Springsteen</a>,\n",
       " <a href=\"poplist.php?p=2569#list\"> Bob Marley &amp; The Wailers</a>,\n",
       " <a href=\"poplist.php?p=867#list\"> Ike &amp; Tina Turner</a>,\n",
       " <a href=\"poplist.php?p=721#list\"> Bob Dylan</a>,\n",
       " <a href=\"poplist.php?p=288#list\">The Beatles</a>,\n",
       " <a href=\"poplist.php?p=2693#list\"> Kingsmen</a>,\n",
       " <a href=\"poplist.php?p=295#list\"> Randy Newman</a>,\n",
       " <a href=\"poplist.php?p=2569#list\"> Bob Marley &amp; The Wailers</a>,\n",
       " <a href=\"poplist.php?p=277#list\"> U2</a>,\n",
       " <a href=\"poplist.php?p=10#list\"> Johnny Cash</a>,\n",
       " <a href=\"poplist.php?p=288#list\">The Beatles</a>,\n",
       " <a href=\"poplist.php?p=276#list\"> Neil Young</a>,\n",
       " <a href=\"poplist.php?p=809#list\"> Chuck Berry</a>,\n",
       " <a href=\"poplist.php?p=804#list\"> Elvis Presley</a>,\n",
       " <a href=\"poplist.php?p=877#list\"> Roxy Music</a>,\n",
       " <a href=\"poplist.php?p=288#list\">The Beatles</a>,\n",
       " <a href=\"poplist.php?p=857#list\">The Ronettes</a>,\n",
       " <a href=\"poplist.php?p=288#list\">The Beatles</a>,\n",
       " <a href=\"poplist.php?p=841#list\"> Jimi Hendrix (Experience)</a>,\n",
       " <a href=\"poplist.php?p=2627#list\">The Impressions</a>,\n",
       " <a href=\"poplist.php?p=2551#list\"> Derek &amp; The Dominos</a>,\n",
       " <a href=\"poplist.php?p=295#list\"> Randy Newman</a>,\n",
       " <a href=\"poplist.php?p=886#list\">The Sex Pistols</a>,\n",
       " <a href=\"poplist.php?p=288#list\">The Beatles</a>,\n",
       " <a href=\"poplist.php?p=971#list\"> Led Zeppelin</a>,\n",
       " <a href=\"poplist.php?p=838#list\">The Beach Boys</a>,\n",
       " <a href=\"poplist.php?p=921#list\"> Michael Jackson</a>,\n",
       " <a href=\"poplist.php?p=625#list\"> Element Of Crime</a>,\n",
       " <a href=\"poplist.php?p=892#list\"> Mick Jagger</a>,\n",
       " <a href=\"poplist.php?p=2589#list\">The Undertones</a>,\n",
       " <a href=\"poplist.php?p=2694#list\">The Righteous Brothers</a>,\n",
       " <a href=\"poplist.php?p=840#list\">The Doors</a>,\n",
       " <a href=\"poplist.php?p=971#list\"> Led Zeppelin</a>,\n",
       " <a href=\"poplist.php?p=39#list\"> David Bowie</a>,\n",
       " <a href=\"poplist.php?p=721#list\"> Bob Dylan</a>,\n",
       " <a href=\"poplist.php?p=288#list\">The Beatles</a>,\n",
       " <a href=\"poplist.php?p=868#list\">The Kinks</a>,\n",
       " <a href=\"poplist.php?p=3728#list\"> Buddy Holly</a>,\n",
       " <a href=\"poplist.php?p=873#list\"> Marvin Gaye</a>,\n",
       " <a href=\"poplist.php?p=186#list\"> Elvis Costello</a>,\n",
       " <a href=\"poplist.php?p=2695#list\"> Martha &amp; The Vandellas</a>,\n",
       " <a href=\"poplist.php?p=804#list\"> Elvis Presley</a>,\n",
       " <a href=\"poplist.php?p=967#list\">The Band</a>,\n",
       " <a href=\"poplist.php?p=721#list\"> Bob Dylan</a>,\n",
       " <a href=\"poplist.php?p=843#list\"> Pink Floyd</a>,\n",
       " <a href=\"poplist.php?p=2696#list\"> Eddie Cochran</a>,\n",
       " <a href=\"poplist.php?p=806#list\"> Little Richard</a>,\n",
       " <a href=\"poplist.php?p=875#list\"> Creedence Clearwater Revival</a>,\n",
       " <a href=\"poplist.php?p=279#list\">The Rolling Stones</a>,\n",
       " <a href=\"poplist.php?p=4133#list\">The Mamas &amp; The Papas</a>,\n",
       " <a href=\"poplist.php?p=2692#list\"> Ray Charles</a>,\n",
       " <a href=\"poplist.php?p=39#list\"> David Bowie</a>,\n",
       " <a href=\"poplist.php?p=844#list\"> Simon &amp; Garfunkel</a>,\n",
       " <a href=\"poplist.php?p=909#list\"> Eagles</a>,\n",
       " <a href=\"poplist.php?p=842#list\">The Velvet Underground</a>,\n",
       " <a href=\"poplist.php?p=2698#list\"> Smokey Robinson &amp; The Miracles</a>,\n",
       " <a href=\"poplist.php?p=279#list\">The Rolling Stones</a>,\n",
       " <a href=\"poplist.php?p=721#list\"> Bob Dylan</a>,\n",
       " <a href=\"poplist.php?p=951#list\"> Tindersticks</a>,\n",
       " <a href=\"poplist.php?p=2556#list\"> Grandmaster Flash &amp; The Furious Five</a>,\n",
       " <a href=\"poplist.php?p=940#list\"> Prince</a>,\n",
       " <a href=\"poplist.php?p=291#list\"> R.E.M.</a>,\n",
       " <a href=\"poplist.php?p=721#list\"> Bob Dylan</a>,\n",
       " <a href=\"poplist.php?p=84#list\"> Oasis</a>,\n",
       " <a href=\"poplist.php?p=845#list\">The Byrds</a>,\n",
       " <a href=\"poplist.php?p=279#list\">The Rolling Stones</a>,\n",
       " <a href=\"poplist.php?p=277#list\"> U2</a>,\n",
       " <a href=\"poplist.php?p=890#list\"> Chic</a>,\n",
       " <a href=\"poplist.php?p=2699#list\"> Percy Sledge</a>,\n",
       " <a href=\"poplist.php?p=295#list\"> Randy Newman</a>,\n",
       " <a href=\"poplist.php?p=721#list\"> Bob Dylan</a>,\n",
       " <a href=\"poplist.php?p=806#list\"> Little Richard</a>,\n",
       " <a href=\"poplist.php?p=2667#list\"> Procol Harum</a>,\n",
       " <a href=\"poplist.php?p=721#list\"> Bob Dylan</a>]"
      ]
     },
     "execution_count": 11,
     "metadata": {},
     "output_type": "execute_result"
    }
   ],
   "source": [
    "# Trim the selection: now it grabs all the artists\n",
    "soup.select(\" td.bestlist.thick > a\")\n"
   ]
  },
  {
   "cell_type": "code",
   "execution_count": 12,
   "id": "51881349",
   "metadata": {},
   "outputs": [],
   "source": [
    "#listcontainer > table > tbody > tr:nth-child(2) > td:nth-child(8) > a"
   ]
  },
  {
   "cell_type": "code",
   "execution_count": 13,
   "id": "d1942cda",
   "metadata": {},
   "outputs": [
    {
     "data": {
      "text/plain": [
       "[<a href=\"poplist.php?t=5656#list\">Like A Rolling Stone</a>,\n",
       " <a href=\"poplist.php?t=5662#list\">(I Can’t Get No) Satisfaction</a>,\n",
       " <a href=\"poplist.php?t=1664#list\">Good Vibrations</a>,\n",
       " <a href=\"poplist.php?t=1735#list\">Imagine</a>,\n",
       " <a href=\"poplist.php?t=1854#list\">Smells Like Teen Spirit</a>,\n",
       " <a href=\"poplist.php?t=1670#list\">Respect</a>,\n",
       " <a href=\"poplist.php?t=1665#list\">Strawberry Fields Forever</a>,\n",
       " <a href=\"poplist.php?t=6168#list\">What’s Going On</a>,\n",
       " <a href=\"poplist.php?t=6169#list\">God Only Knows</a>,\n",
       " <a href=\"poplist.php?t=1674#list\">Hey Jude</a>,\n",
       " <a href=\"poplist.php?t=1750#list\">London Calling</a>,\n",
       " <a href=\"poplist.php?t=1594#list\">Johnny B. Goode</a>,\n",
       " <a href=\"poplist.php?t=1666#list\">Waterloo Sunset</a>,\n",
       " <a href=\"poplist.php?t=5643#list\">My Generation</a>,\n",
       " <a href=\"poplist.php?t=5663#list\">Yesterday</a>,\n",
       " <a href=\"poplist.php?t=5618#list\">Gimme Shelter</a>,\n",
       " <a href=\"poplist.php?t=5620#list\">Blowin’ In The Wind</a>,\n",
       " <a href=\"poplist.php?t=9662#list\">(Sittin’ On) The Dock Of The Bay</a>,\n",
       " <a href=\"poplist.php?t=6171#list\">Purple Haze</a>,\n",
       " <a href=\"poplist.php?t=6172#list\">What’d I Say</a>,\n",
       " <a href=\"poplist.php?t=1675#list\">Jumpin’ Jack Flash</a>,\n",
       " <a href=\"poplist.php?t=5649#list\">Sympathy For The Devil</a>,\n",
       " <a href=\"poplist.php?t=1589#list\">Heartbreak Hotel</a>,\n",
       " <a href=\"poplist.php?t=5659#list\">Thunder Road</a>,\n",
       " <a href=\"poplist.php?t=1650#list\">A Change Is Gonna Come</a>,\n",
       " <a href=\"poplist.php?t=5646#list\">A Day In The Life</a>,\n",
       " <a href=\"poplist.php?t=5661#list\">Born To Run</a>,\n",
       " <a href=\"poplist.php?t=6173#list\">Redemption Song</a>,\n",
       " <a href=\"poplist.php?t=9526#list\">River Deep Mountain High</a>,\n",
       " <a href=\"poplist.php?t=6175#list\">Tangled Up In Blue</a>,\n",
       " <a href=\"poplist.php?t=5623#list\">Help!</a>,\n",
       " <a href=\"poplist.php?t=6176#list\">Louie Louie</a>,\n",
       " <a href=\"poplist.php?t=6177#list\">Sail Away</a>,\n",
       " <a href=\"poplist.php?t=9672#list\">No Woman No Cry</a>,\n",
       " <a href=\"poplist.php?t=5640#list\">One</a>,\n",
       " <a href=\"poplist.php?t=6179#list\">I Walk The Line</a>,\n",
       " <a href=\"poplist.php?t=6180#list\">I Want To Hold Your Hand</a>,\n",
       " <a href=\"poplist.php?t=5630#list\">Cortez The Killer</a>,\n",
       " <a href=\"poplist.php?t=6181#list\">Maybellene</a>,\n",
       " <a href=\"poplist.php?t=6182#list\">Hound Dog</a>,\n",
       " <a href=\"poplist.php?t=1724#list\">Virginia Plain</a>,\n",
       " <a href=\"poplist.php?t=5658#list\">Let It Be</a>,\n",
       " <a href=\"poplist.php?t=1643#list\">Be My Baby</a>,\n",
       " <a href=\"poplist.php?t=6183#list\">In My Life</a>,\n",
       " <a href=\"poplist.php?t=6184#list\">All Along The Watchtower</a>,\n",
       " <a href=\"poplist.php?t=6185#list\">People Get Ready</a>,\n",
       " <a href=\"poplist.php?t=5650#list\">Layla</a>,\n",
       " <a href=\"poplist.php?t=6186#list\">In Germany Before The War</a>,\n",
       " <a href=\"poplist.php?t=9304#list\">Anarchy In The UK</a>,\n",
       " <a href=\"poplist.php?t=1647#list\">She Loves You</a>,\n",
       " <a href=\"poplist.php?t=5664#list\">Stairway To Heaven</a>,\n",
       " <a href=\"poplist.php?t=6188#list\">Don’t Worry Baby</a>,\n",
       " <a href=\"poplist.php?t=6189#list\">Billie Jean</a>,\n",
       " <a href=\"poplist.php?t=6190#list\">Weißes Papier</a>,\n",
       " <a href=\"poplist.php?t=1714#list\">Memo From Turner</a>,\n",
       " <a href=\"poplist.php?t=6191#list\">Teenage Kicks</a>,\n",
       " <a href=\"poplist.php?t=6192#list\">You’ve Lost That Lovin’ Feeling</a>,\n",
       " <a href=\"poplist.php?t=5639#list\">Light My Fire</a>,\n",
       " <a href=\"poplist.php?t=5634#list\">Whole Lotta Love</a>,\n",
       " <a href=\"poplist.php?t=6193#list\">Space Oddity</a>,\n",
       " <a href=\"poplist.php?t=6194#list\">Subterranean Homesick Blues</a>,\n",
       " <a href=\"poplist.php?t=6195#list\">While My Guitar Gently Weeps</a>,\n",
       " <a href=\"poplist.php?t=6196#list\">You Really Got Me</a>,\n",
       " <a href=\"poplist.php?t=6197#list\">That’ll Be The Day</a>,\n",
       " <a href=\"poplist.php?t=1676#list\">I Heard It Through The Grapevine</a>,\n",
       " <a href=\"poplist.php?t=1742#list\">Alison</a>,\n",
       " <a href=\"poplist.php?t=9652#list\">Dancing In The Street</a>,\n",
       " <a href=\"poplist.php?t=1583#list\">Mystery Train</a>,\n",
       " <a href=\"poplist.php?t=6199#list\">The Weight</a>,\n",
       " <a href=\"poplist.php?t=6200#list\">Visions Of Johanna</a>,\n",
       " <a href=\"poplist.php?t=6201#list\">See Emily Play</a>,\n",
       " <a href=\"poplist.php?t=6202#list\">Summertime Blues</a>,\n",
       " <a href=\"poplist.php?t=6203#list\">Tutti Frutti</a>,\n",
       " <a href=\"poplist.php?t=6204#list\">Proud Mary</a>,\n",
       " <a href=\"poplist.php?t=6205#list\">Honky Tonk Women</a>,\n",
       " <a href=\"poplist.php?t=6206#list\">California Dreamin’</a>,\n",
       " <a href=\"poplist.php?t=6207#list\">Georgia On My Mind</a>,\n",
       " <a href=\"poplist.php?t=5568#list\">Heroes</a>,\n",
       " <a href=\"poplist.php?t=5605#list\">Bridge Over Troubled Water</a>,\n",
       " <a href=\"poplist.php?t=1740#list\">Hotel California</a>,\n",
       " <a href=\"poplist.php?t=6208#list\">I’m Waiting For The Man</a>,\n",
       " <a href=\"poplist.php?t=6209#list\">The Tracks Of My Tears</a>,\n",
       " <a href=\"poplist.php?t=6210#list\">Tumbling Dice</a>,\n",
       " <a href=\"poplist.php?t=6211#list\">Boots Of Spanish Leather</a>,\n",
       " <a href=\"poplist.php?t=1863#list\">Kathleen</a>,\n",
       " <a href=\"poplist.php?t=5875#list\">The Message</a>,\n",
       " <a href=\"poplist.php?t=5254#list\">When Doves Cry</a>,\n",
       " <a href=\"poplist.php?t=4118#list\">Losing My Religion</a>,\n",
       " <a href=\"poplist.php?t=6212#list\">Ballad Of A Thin Man</a>,\n",
       " <a href=\"poplist.php?t=1861#list\">Live Forever</a>,\n",
       " <a href=\"poplist.php?t=5437#list\">Eight Miles High</a>,\n",
       " <a href=\"poplist.php?t=1657#list\">Paint It, Black</a>,\n",
       " <a href=\"poplist.php?t=5651#list\">With Or Without You</a>,\n",
       " <a href=\"poplist.php?t=1748#list\">Good Times</a>,\n",
       " <a href=\"poplist.php?t=6213#list\">When A Man Loves A Woman</a>,\n",
       " <a href=\"poplist.php?t=6214#list\">Political Science</a>,\n",
       " <a href=\"poplist.php?t=6215#list\">Desolation Row</a>,\n",
       " <a href=\"poplist.php?t=6216#list\">Long Tall Sally</a>,\n",
       " <a href=\"poplist.php?t=6217#list\">A Whiter Shade Of Pale</a>,\n",
       " <a href=\"poplist.php?t=6218#list\">The Times They Are A-Changin’</a>]"
      ]
     },
     "execution_count": 13,
     "metadata": {},
     "output_type": "execute_result"
    }
   ],
   "source": [
    "# Trim the selection: now it grabs all the titles\n",
    "soup.select(\"td:nth-child(8) > a\")\n"
   ]
  },
  {
   "cell_type": "code",
   "execution_count": 25,
   "id": "1b163e32",
   "metadata": {},
   "outputs": [],
   "source": [
    "titles = []\n",
    "artists = []\n",
    "\n",
    "\n",
    "for i in range(len(pages)):\n",
    "    # parse all pages\n",
    "    parsed = BeautifulSoup(pages[i].content, \"html.parser\")\n",
    "    # select only the info about the songs\n",
    "    \n",
    "    for j in soup.select(\"td:nth-child(8) > a\"):\n",
    "        titles.append(j.get_text())\n",
    "        "
   ]
  },
  {
   "cell_type": "code",
   "execution_count": 26,
   "id": "55511879",
   "metadata": {},
   "outputs": [
    {
     "data": {
      "text/plain": [
       "500"
      ]
     },
     "execution_count": 26,
     "metadata": {},
     "output_type": "execute_result"
    }
   ],
   "source": [
    "len(titles)"
   ]
  },
  {
   "cell_type": "code",
   "execution_count": 27,
   "id": "a4c8dd1b",
   "metadata": {},
   "outputs": [],
   "source": [
    "\n",
    "artists = []\n",
    "\n",
    "\n",
    "for i in range(len(pages)):\n",
    "    # parse all pages\n",
    "    parsed = BeautifulSoup(pages[i].content, \"html.parser\")\n",
    "    # select only the info about the songs\n",
    "    \n",
    "    for j in soup.select(\" td.bestlist.thick > a\"):\n",
    "        artists.append(j.get_text())\n",
    "        "
   ]
  },
  {
   "cell_type": "code",
   "execution_count": 28,
   "id": "57141818",
   "metadata": {},
   "outputs": [
    {
     "data": {
      "text/plain": [
       "500"
      ]
     },
     "execution_count": 28,
     "metadata": {},
     "output_type": "execute_result"
    }
   ],
   "source": [
    "len(artists)"
   ]
  },
  {
   "cell_type": "code",
   "execution_count": 29,
   "id": "78a54fd4",
   "metadata": {},
   "outputs": [],
   "source": [
    "import pandas as pd\n",
    "\n",
    "songs = pd.DataFrame({\"titles\":titles,\n",
    "                       \"artists\":artists})"
   ]
  },
  {
   "cell_type": "code",
   "execution_count": 30,
   "id": "9386de39",
   "metadata": {},
   "outputs": [
    {
     "data": {
      "text/html": [
       "<div>\n",
       "<style scoped>\n",
       "    .dataframe tbody tr th:only-of-type {\n",
       "        vertical-align: middle;\n",
       "    }\n",
       "\n",
       "    .dataframe tbody tr th {\n",
       "        vertical-align: top;\n",
       "    }\n",
       "\n",
       "    .dataframe thead th {\n",
       "        text-align: right;\n",
       "    }\n",
       "</style>\n",
       "<table border=\"1\" class=\"dataframe\">\n",
       "  <thead>\n",
       "    <tr style=\"text-align: right;\">\n",
       "      <th></th>\n",
       "      <th>titles</th>\n",
       "      <th>artists</th>\n",
       "    </tr>\n",
       "  </thead>\n",
       "  <tbody>\n",
       "    <tr>\n",
       "      <th>0</th>\n",
       "      <td>Like A Rolling Stone</td>\n",
       "      <td>Bob Dylan</td>\n",
       "    </tr>\n",
       "    <tr>\n",
       "      <th>1</th>\n",
       "      <td>(I Can’t Get No) Satisfaction</td>\n",
       "      <td>The Rolling Stones</td>\n",
       "    </tr>\n",
       "    <tr>\n",
       "      <th>2</th>\n",
       "      <td>Good Vibrations</td>\n",
       "      <td>The Beach Boys</td>\n",
       "    </tr>\n",
       "    <tr>\n",
       "      <th>3</th>\n",
       "      <td>Imagine</td>\n",
       "      <td>John Lennon</td>\n",
       "    </tr>\n",
       "    <tr>\n",
       "      <th>4</th>\n",
       "      <td>Smells Like Teen Spirit</td>\n",
       "      <td>Nirvana</td>\n",
       "    </tr>\n",
       "    <tr>\n",
       "      <th>...</th>\n",
       "      <td>...</td>\n",
       "      <td>...</td>\n",
       "    </tr>\n",
       "    <tr>\n",
       "      <th>495</th>\n",
       "      <td>Political Science</td>\n",
       "      <td>Randy Newman</td>\n",
       "    </tr>\n",
       "    <tr>\n",
       "      <th>496</th>\n",
       "      <td>Desolation Row</td>\n",
       "      <td>Bob Dylan</td>\n",
       "    </tr>\n",
       "    <tr>\n",
       "      <th>497</th>\n",
       "      <td>Long Tall Sally</td>\n",
       "      <td>Little Richard</td>\n",
       "    </tr>\n",
       "    <tr>\n",
       "      <th>498</th>\n",
       "      <td>A Whiter Shade Of Pale</td>\n",
       "      <td>Procol Harum</td>\n",
       "    </tr>\n",
       "    <tr>\n",
       "      <th>499</th>\n",
       "      <td>The Times They Are A-Changin’</td>\n",
       "      <td>Bob Dylan</td>\n",
       "    </tr>\n",
       "  </tbody>\n",
       "</table>\n",
       "<p>500 rows × 2 columns</p>\n",
       "</div>"
      ],
      "text/plain": [
       "                            titles             artists\n",
       "0             Like A Rolling Stone           Bob Dylan\n",
       "1    (I Can’t Get No) Satisfaction  The Rolling Stones\n",
       "2                  Good Vibrations      The Beach Boys\n",
       "3                          Imagine         John Lennon\n",
       "4          Smells Like Teen Spirit             Nirvana\n",
       "..                             ...                 ...\n",
       "495              Political Science        Randy Newman\n",
       "496                 Desolation Row           Bob Dylan\n",
       "497                Long Tall Sally      Little Richard\n",
       "498         A Whiter Shade Of Pale        Procol Harum\n",
       "499  The Times They Are A-Changin’           Bob Dylan\n",
       "\n",
       "[500 rows x 2 columns]"
      ]
     },
     "execution_count": 30,
     "metadata": {},
     "output_type": "execute_result"
    }
   ],
   "source": [
    "songs"
   ]
  },
  {
   "cell_type": "code",
   "execution_count": 31,
   "id": "215de6a6",
   "metadata": {},
   "outputs": [],
   "source": [
    "songs.index = songs.index + 1"
   ]
  },
  {
   "cell_type": "code",
   "execution_count": 32,
   "id": "73df974b",
   "metadata": {},
   "outputs": [
    {
     "data": {
      "text/html": [
       "<div>\n",
       "<style scoped>\n",
       "    .dataframe tbody tr th:only-of-type {\n",
       "        vertical-align: middle;\n",
       "    }\n",
       "\n",
       "    .dataframe tbody tr th {\n",
       "        vertical-align: top;\n",
       "    }\n",
       "\n",
       "    .dataframe thead th {\n",
       "        text-align: right;\n",
       "    }\n",
       "</style>\n",
       "<table border=\"1\" class=\"dataframe\">\n",
       "  <thead>\n",
       "    <tr style=\"text-align: right;\">\n",
       "      <th></th>\n",
       "      <th>titles</th>\n",
       "      <th>artists</th>\n",
       "    </tr>\n",
       "  </thead>\n",
       "  <tbody>\n",
       "    <tr>\n",
       "      <th>1</th>\n",
       "      <td>Like A Rolling Stone</td>\n",
       "      <td>Bob Dylan</td>\n",
       "    </tr>\n",
       "    <tr>\n",
       "      <th>2</th>\n",
       "      <td>(I Can’t Get No) Satisfaction</td>\n",
       "      <td>The Rolling Stones</td>\n",
       "    </tr>\n",
       "    <tr>\n",
       "      <th>3</th>\n",
       "      <td>Good Vibrations</td>\n",
       "      <td>The Beach Boys</td>\n",
       "    </tr>\n",
       "    <tr>\n",
       "      <th>4</th>\n",
       "      <td>Imagine</td>\n",
       "      <td>John Lennon</td>\n",
       "    </tr>\n",
       "    <tr>\n",
       "      <th>5</th>\n",
       "      <td>Smells Like Teen Spirit</td>\n",
       "      <td>Nirvana</td>\n",
       "    </tr>\n",
       "    <tr>\n",
       "      <th>...</th>\n",
       "      <td>...</td>\n",
       "      <td>...</td>\n",
       "    </tr>\n",
       "    <tr>\n",
       "      <th>496</th>\n",
       "      <td>Political Science</td>\n",
       "      <td>Randy Newman</td>\n",
       "    </tr>\n",
       "    <tr>\n",
       "      <th>497</th>\n",
       "      <td>Desolation Row</td>\n",
       "      <td>Bob Dylan</td>\n",
       "    </tr>\n",
       "    <tr>\n",
       "      <th>498</th>\n",
       "      <td>Long Tall Sally</td>\n",
       "      <td>Little Richard</td>\n",
       "    </tr>\n",
       "    <tr>\n",
       "      <th>499</th>\n",
       "      <td>A Whiter Shade Of Pale</td>\n",
       "      <td>Procol Harum</td>\n",
       "    </tr>\n",
       "    <tr>\n",
       "      <th>500</th>\n",
       "      <td>The Times They Are A-Changin’</td>\n",
       "      <td>Bob Dylan</td>\n",
       "    </tr>\n",
       "  </tbody>\n",
       "</table>\n",
       "<p>500 rows × 2 columns</p>\n",
       "</div>"
      ],
      "text/plain": [
       "                            titles             artists\n",
       "1             Like A Rolling Stone           Bob Dylan\n",
       "2    (I Can’t Get No) Satisfaction  The Rolling Stones\n",
       "3                  Good Vibrations      The Beach Boys\n",
       "4                          Imagine         John Lennon\n",
       "5          Smells Like Teen Spirit             Nirvana\n",
       "..                             ...                 ...\n",
       "496              Political Science        Randy Newman\n",
       "497                 Desolation Row           Bob Dylan\n",
       "498                Long Tall Sally      Little Richard\n",
       "499         A Whiter Shade Of Pale        Procol Harum\n",
       "500  The Times They Are A-Changin’           Bob Dylan\n",
       "\n",
       "[500 rows x 2 columns]"
      ]
     },
     "execution_count": 32,
     "metadata": {},
     "output_type": "execute_result"
    }
   ],
   "source": [
    "songs"
   ]
  },
  {
   "cell_type": "code",
   "execution_count": null,
   "id": "64bf8966",
   "metadata": {},
   "outputs": [],
   "source": []
  }
 ],
 "metadata": {
  "kernelspec": {
   "display_name": "Python 3 (ipykernel)",
   "language": "python",
   "name": "python3"
  },
  "language_info": {
   "codemirror_mode": {
    "name": "ipython",
    "version": 3
   },
   "file_extension": ".py",
   "mimetype": "text/x-python",
   "name": "python",
   "nbconvert_exporter": "python",
   "pygments_lexer": "ipython3",
   "version": "3.10.9"
  }
 },
 "nbformat": 4,
 "nbformat_minor": 5
}
